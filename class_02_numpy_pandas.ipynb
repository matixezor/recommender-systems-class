{
 "cells": [
  {
   "cell_type": "code",
   "execution_count": 56,
   "id": "spread-happiness",
   "metadata": {
    "pycharm": {
     "is_executing": true
    }
   },
   "outputs": [
    {
     "name": "stdout",
     "output_type": "stream",
     "text": [
      "The autoreload extension is already loaded. To reload it, use:\n",
      "  %reload_ext autoreload\n"
     ]
    }
   ],
   "source": [
    "%matplotlib inline\n",
    "%load_ext autoreload\n",
    "%autoreload 2\n",
    "\n",
    "import numpy as np\n",
    "import pandas as pd\n",
    "import matplotlib.pyplot as plt\n",
    "import seaborn as sns\n",
    "from IPython.display import Markdown, display, HTML\n",
    "\n",
    "# Fix the dying kernel problem (only a problem in some installations - you can remove it, if it works without it)\n",
    "import os\n",
    "os.environ['KMP_DUPLICATE_LIB_OK'] = 'True'"
   ]
  },
  {
   "cell_type": "markdown",
   "id": "approximate-classic",
   "metadata": {},
   "source": [
    "# Numpy tasks\n",
    "\n",
    "For a detailed reference check out: https://numpy.org/doc/stable/reference/arrays.indexing.html."
   ]
  },
  {
   "cell_type": "markdown",
   "id": "common-undergraduate",
   "metadata": {},
   "source": [
    "**Task 1.** Calculate the sigmoid (logistic) function on every element of the following numpy array [0.3, 1.2, -1.4, 0.2, -0.1, 0.1, 0.8, -0.25] and print the last 5 elements. Use only vector operations."
   ]
  },
  {
   "cell_type": "code",
   "execution_count": 10,
   "id": "agreed-single",
   "metadata": {},
   "outputs": [
    {
     "name": "stdout",
     "output_type": "stream",
     "text": [
      "[0.549834   0.47502081 0.52497919 0.68997448 0.4378235 ]\n"
     ]
    }
   ],
   "source": [
    "vector = np.array([0.3, 1.2, -1.4, 0.2, -0.1, 0.1, 0.8, -0.25])\n",
    "sigmoid = 1/(1 + np.exp(-vector))\n",
    "print(sigmoid[-5::])"
   ]
  },
  {
   "cell_type": "markdown",
   "id": "another-catch",
   "metadata": {},
   "source": [
    "**Task 2.** Calculate the dot product of the following two vectors:<br/>\n",
    "$x = [3, 1, 4, 2, 6, 1, 4, 8]$<br/>\n",
    "$y = [5, 2, 3, 12, 2, 4, 17, 11]$<br/>\n",
    "a) by using element-wise mutliplication and np.sum,<br/>\n",
    "b) by using np.dot,<br/>\n",
    "b) by using np.matmul and transposition (x.T)."
   ]
  },
  {
   "cell_type": "code",
   "execution_count": 5,
   "id": "forbidden-journalism",
   "metadata": {},
   "outputs": [
    {
     "name": "stdout",
     "output_type": "stream",
     "text": [
      "225\n",
      "225\n",
      "[[225]]\n"
     ]
    }
   ],
   "source": [
    "x = np.array([3, 1, 4, 2, 6, 1, 4, 8])\n",
    "y = np.array([5, 2, 3, 12, 2, 4, 17, 11])\n",
    "\n",
    "# a)\n",
    "print(np.sum(x * y))\n",
    "\n",
    "# b)\n",
    "              \n",
    "print(np.dot(x, y))\n",
    "              \n",
    "# c)\n",
    "\n",
    "print(np.matmul(x, y))\n"
   ]
  },
  {
   "cell_type": "markdown",
   "id": "acute-amber",
   "metadata": {},
   "source": [
    "**Task 3.** Calculate value of the logistic model<br/>\n",
    "$$y = \\frac{1}{1 + e^{-x_0 \\theta_0 - \\ldots - x_9 \\theta_9 - \\theta_{10}}}$$\n",
    "for<br/>\n",
    "$x = [1.2, 2.3, 3.4, -0.7, 4.2, 2.7, -0.5, 1.4, -3.3, 0.2]$<br/>\n",
    "$\\theta = [2.7, 0.33, -2.12, -1.73, 2.9, -5.8, -0.9, 12.11, 3.43, -0.5, -1.65]$<br/>\n",
    "and print the result. Use only vector operations."
   ]
  },
  {
   "cell_type": "code",
   "execution_count": 7,
   "id": "falling-holder",
   "metadata": {},
   "outputs": [
    {
     "name": "stdout",
     "output_type": "stream",
     "text": [
      "0.2417699832615572\n"
     ]
    }
   ],
   "source": [
    "x = np.array([1.2,2.3,3.4,-0.7,4.2,2.7,-0.5,1.4,-3.3,0.2])\n",
    "thetas = np.array([2.7,0.33,-2.12,-1.73,2.9,-5.8,-0.9,12.11,3.43,-0.5,-1.65])\n",
    "\n",
    "exp_sum = np.sum(np.multiply(-x, thetas[:-1])) - thetas[-1]\n",
    "\n",
    "logistic_model = 1 / (1 + np.exp(exp_sum))\n",
    "print(logistic_model)"
   ]
  },
  {
   "cell_type": "markdown",
   "id": "encouraging-clear",
   "metadata": {},
   "source": [
    "**Task 4.** Calculate value of the multivariate linear regression model<br/>\n",
    "$$y = A x + B$$\n",
    "for<br/>\n",
    "$A = \\begin{bmatrix} 1 & 2 & 1 \\\\ 3 & 0 & 1 \\end{bmatrix}$<br/>\n",
    "$B = \\begin{bmatrix} 0.2 \\\\ 0.3 \\end{bmatrix}$<br/>\n",
    "$x = [1, 2, 3]^T$<br/>\n",
    "and print the result. Use only vector and matrix operations."
   ]
  },
  {
   "cell_type": "code",
   "execution_count": 15,
   "id": "casual-emergency",
   "metadata": {},
   "outputs": [
    {
     "name": "stdout",
     "output_type": "stream",
     "text": [
      "[[8.2]\n",
      " [6.3]]\n"
     ]
    }
   ],
   "source": [
    "A = np.array([1, 2, 1, 3, 0, 1]).reshape(2, 3)\n",
    "B = np.array([0.2, 0.3]).reshape(2, 1)\n",
    "x = np.array([1, 2, 3])[np.newaxis]\n",
    "y = np.dot(A, np.transpose(x)) + B\n",
    "print(y)"
   ]
  },
  {
   "cell_type": "markdown",
   "id": "latter-vector",
   "metadata": {},
   "source": [
    "# Pandas"
   ]
  },
  {
   "cell_type": "markdown",
   "id": "contrary-vacuum",
   "metadata": {},
   "source": [
    "## Load datasets\n",
    "\n",
    "- Steam (https://www.kaggle.com/tamber/steam-video-games)\n",
    "\n",
    "- MovieLens (https://grouplens.org/datasets/movielens/)"
   ]
  },
  {
   "cell_type": "code",
   "execution_count": 57,
   "id": "alert-friday",
   "metadata": {},
   "outputs": [],
   "source": [
    "steam_df = pd.read_csv(os.path.join(\"data\", \"steam\", \"steam-200k.csv\"), \n",
    "                       names=['user-id', 'game-title', 'behavior-name', 'value', 'zero'])\n",
    "\n",
    "ml_ratings_df = pd.read_csv(os.path.join(\"data\", \"movielens_small\", \"ratings.csv\"))\n",
    "ml_movies_df = pd.read_csv(os.path.join(\"data\", \"movielens_small\", \"movies.csv\"))"
   ]
  },
  {
   "cell_type": "markdown",
   "id": "alpha-portal",
   "metadata": {},
   "source": [
    "## Merge both MovieLens DataFrames into one"
   ]
  },
  {
   "cell_type": "code",
   "execution_count": 58,
   "id": "affecting-disclosure",
   "metadata": {},
   "outputs": [
    {
     "data": {
      "text/html": [
       "<div>\n",
       "<style scoped>\n",
       "    .dataframe tbody tr th:only-of-type {\n",
       "        vertical-align: middle;\n",
       "    }\n",
       "\n",
       "    .dataframe tbody tr th {\n",
       "        vertical-align: top;\n",
       "    }\n",
       "\n",
       "    .dataframe thead th {\n",
       "        text-align: right;\n",
       "    }\n",
       "</style>\n",
       "<table border=\"1\" class=\"dataframe\">\n",
       "  <thead>\n",
       "    <tr style=\"text-align: right;\">\n",
       "      <th></th>\n",
       "      <th>user-id</th>\n",
       "      <th>game-title</th>\n",
       "      <th>behavior-name</th>\n",
       "      <th>value</th>\n",
       "      <th>zero</th>\n",
       "    </tr>\n",
       "  </thead>\n",
       "  <tbody>\n",
       "    <tr>\n",
       "      <th>0</th>\n",
       "      <td>151603712</td>\n",
       "      <td>The Elder Scrolls V Skyrim</td>\n",
       "      <td>purchase</td>\n",
       "      <td>1.0</td>\n",
       "      <td>0</td>\n",
       "    </tr>\n",
       "    <tr>\n",
       "      <th>1</th>\n",
       "      <td>151603712</td>\n",
       "      <td>The Elder Scrolls V Skyrim</td>\n",
       "      <td>play</td>\n",
       "      <td>273.0</td>\n",
       "      <td>0</td>\n",
       "    </tr>\n",
       "    <tr>\n",
       "      <th>2</th>\n",
       "      <td>151603712</td>\n",
       "      <td>Fallout 4</td>\n",
       "      <td>purchase</td>\n",
       "      <td>1.0</td>\n",
       "      <td>0</td>\n",
       "    </tr>\n",
       "    <tr>\n",
       "      <th>3</th>\n",
       "      <td>151603712</td>\n",
       "      <td>Fallout 4</td>\n",
       "      <td>play</td>\n",
       "      <td>87.0</td>\n",
       "      <td>0</td>\n",
       "    </tr>\n",
       "    <tr>\n",
       "      <th>4</th>\n",
       "      <td>151603712</td>\n",
       "      <td>Spore</td>\n",
       "      <td>purchase</td>\n",
       "      <td>1.0</td>\n",
       "      <td>0</td>\n",
       "    </tr>\n",
       "    <tr>\n",
       "      <th>5</th>\n",
       "      <td>151603712</td>\n",
       "      <td>Spore</td>\n",
       "      <td>play</td>\n",
       "      <td>14.9</td>\n",
       "      <td>0</td>\n",
       "    </tr>\n",
       "    <tr>\n",
       "      <th>6</th>\n",
       "      <td>151603712</td>\n",
       "      <td>Fallout New Vegas</td>\n",
       "      <td>purchase</td>\n",
       "      <td>1.0</td>\n",
       "      <td>0</td>\n",
       "    </tr>\n",
       "    <tr>\n",
       "      <th>7</th>\n",
       "      <td>151603712</td>\n",
       "      <td>Fallout New Vegas</td>\n",
       "      <td>play</td>\n",
       "      <td>12.1</td>\n",
       "      <td>0</td>\n",
       "    </tr>\n",
       "    <tr>\n",
       "      <th>8</th>\n",
       "      <td>151603712</td>\n",
       "      <td>Left 4 Dead 2</td>\n",
       "      <td>purchase</td>\n",
       "      <td>1.0</td>\n",
       "      <td>0</td>\n",
       "    </tr>\n",
       "    <tr>\n",
       "      <th>9</th>\n",
       "      <td>151603712</td>\n",
       "      <td>Left 4 Dead 2</td>\n",
       "      <td>play</td>\n",
       "      <td>8.9</td>\n",
       "      <td>0</td>\n",
       "    </tr>\n",
       "  </tbody>\n",
       "</table>\n",
       "</div>"
      ],
      "text/plain": [
       "     user-id                  game-title behavior-name  value  zero\n",
       "0  151603712  The Elder Scrolls V Skyrim      purchase    1.0     0\n",
       "1  151603712  The Elder Scrolls V Skyrim          play  273.0     0\n",
       "2  151603712                   Fallout 4      purchase    1.0     0\n",
       "3  151603712                   Fallout 4          play   87.0     0\n",
       "4  151603712                       Spore      purchase    1.0     0\n",
       "5  151603712                       Spore          play   14.9     0\n",
       "6  151603712           Fallout New Vegas      purchase    1.0     0\n",
       "7  151603712           Fallout New Vegas          play   12.1     0\n",
       "8  151603712               Left 4 Dead 2      purchase    1.0     0\n",
       "9  151603712               Left 4 Dead 2          play    8.9     0"
      ]
     },
     "execution_count": 58,
     "metadata": {},
     "output_type": "execute_result"
    }
   ],
   "source": [
    "ml_df = pd.merge(ml_ratings_df, ml_movies_df, on='movieId')\n",
    "ml_df.head(10)\n",
    "steam_df.head(10)"
   ]
  },
  {
   "cell_type": "markdown",
   "id": "objective-associate",
   "metadata": {},
   "source": [
    "## Pandas tasks - Steam dataset"
   ]
  },
  {
   "cell_type": "markdown",
   "id": "floppy-american",
   "metadata": {},
   "source": [
    "**Task 5.** How many people made a purchase in the Steam dataset? Remember that a person could buy many games, but you need to count every person once."
   ]
  },
  {
   "cell_type": "code",
   "execution_count": 114,
   "id": "decimal-grass",
   "metadata": {},
   "outputs": [
    {
     "data": {
      "text/plain": [
       "12393"
      ]
     },
     "metadata": {},
     "output_type": "display_data"
    }
   ],
   "source": [
    "display(steam_df.loc[steam_df['behavior-name'] == 'purchase']['user-id'].nunique())"
   ]
  },
  {
   "cell_type": "markdown",
   "id": "protected-glossary",
   "metadata": {},
   "source": [
    "**Task 6.** How many people made a purchase of \"The Elder Scrolls V Skyrim\"?"
   ]
  },
  {
   "cell_type": "code",
   "execution_count": 115,
   "id": "distant-overview",
   "metadata": {},
   "outputs": [
    {
     "data": {
      "text/plain": [
       "717"
      ]
     },
     "metadata": {},
     "output_type": "display_data"
    }
   ],
   "source": [
    "display(steam_df.loc[steam_df['game-title'] == 'The Elder Scrolls V Skyrim']['user-id'].nunique())"
   ]
  },
  {
   "cell_type": "markdown",
   "id": "vocational-weekly",
   "metadata": {},
   "source": [
    "**Task 7.** How many purchases people made on average?"
   ]
  },
  {
   "cell_type": "code",
   "execution_count": 19,
   "id": "reflected-cathedral",
   "metadata": {},
   "outputs": [
    {
     "data": {
      "text/plain": [
       "10.45033486645687"
      ]
     },
     "metadata": {},
     "output_type": "display_data"
    }
   ],
   "source": [
    "purchase_df = steam_df.loc[steam_df['behavior-name'] == 'purchase'].groupby('user-id')\n",
    "display(purchase_df['user-id'].value_counts().mean())"
   ]
  },
  {
   "cell_type": "markdown",
   "id": "signed-transaction",
   "metadata": {},
   "source": [
    "**Task 8.** Who bought the most games?"
   ]
  },
  {
   "cell_type": "code",
   "execution_count": 26,
   "id": "handmade-revolution",
   "metadata": {},
   "outputs": [
    {
     "data": {
      "text/plain": [
       "62990992"
      ]
     },
     "metadata": {},
     "output_type": "display_data"
    }
   ],
   "source": [
    "display(purchase_df.sum().sort_values(by='value', ascending=False).reset_index().head(1)['user-id'].values[0])"
   ]
  },
  {
   "cell_type": "markdown",
   "id": "piano-bobby",
   "metadata": {},
   "source": [
    "**Task 9.** How many hours on average people played in \"The Elder Scrolls V Skyrim\"?"
   ]
  },
  {
   "cell_type": "code",
   "execution_count": 134,
   "id": "hydraulic-observation",
   "metadata": {},
   "outputs": [
    {
     "data": {
      "text/plain": [
       "104.71093057607091"
      ]
     },
     "metadata": {},
     "output_type": "display_data"
    }
   ],
   "source": [
    "play_df = steam_df.loc[(steam_df['behavior-name'] == 'play') & (steam_df['game-title'] == 'The Elder Scrolls V Skyrim')].copy()\n",
    "display(play_df.value.mean())"
   ]
  },
  {
   "cell_type": "markdown",
   "id": "stuffed-creativity",
   "metadata": {},
   "source": [
    "**Task 10.** Which games were played the most (in terms of the number of hours played)? Print the first 10 titles and respective numbers of hours."
   ]
  },
  {
   "cell_type": "code",
   "execution_count": 14,
   "id": "challenging-truck",
   "metadata": {},
   "outputs": [
    {
     "data": {
      "text/html": [
       "<div>\n",
       "<style scoped>\n",
       "    .dataframe tbody tr th:only-of-type {\n",
       "        vertical-align: middle;\n",
       "    }\n",
       "\n",
       "    .dataframe tbody tr th {\n",
       "        vertical-align: top;\n",
       "    }\n",
       "\n",
       "    .dataframe thead th {\n",
       "        text-align: right;\n",
       "    }\n",
       "</style>\n",
       "<table border=\"1\" class=\"dataframe\">\n",
       "  <thead>\n",
       "    <tr style=\"text-align: right;\">\n",
       "      <th></th>\n",
       "      <th>game-title</th>\n",
       "      <th>value</th>\n",
       "    </tr>\n",
       "  </thead>\n",
       "  <tbody>\n",
       "    <tr>\n",
       "      <th>0</th>\n",
       "      <td>Dota 2</td>\n",
       "      <td>981684.6</td>\n",
       "    </tr>\n",
       "    <tr>\n",
       "      <th>1</th>\n",
       "      <td>Counter-Strike Global Offensive</td>\n",
       "      <td>322771.6</td>\n",
       "    </tr>\n",
       "    <tr>\n",
       "      <th>2</th>\n",
       "      <td>Team Fortress 2</td>\n",
       "      <td>173673.3</td>\n",
       "    </tr>\n",
       "    <tr>\n",
       "      <th>3</th>\n",
       "      <td>Counter-Strike</td>\n",
       "      <td>134261.1</td>\n",
       "    </tr>\n",
       "    <tr>\n",
       "      <th>4</th>\n",
       "      <td>Sid Meier's Civilization V</td>\n",
       "      <td>99821.3</td>\n",
       "    </tr>\n",
       "    <tr>\n",
       "      <th>5</th>\n",
       "      <td>Counter-Strike Source</td>\n",
       "      <td>96075.5</td>\n",
       "    </tr>\n",
       "    <tr>\n",
       "      <th>6</th>\n",
       "      <td>The Elder Scrolls V Skyrim</td>\n",
       "      <td>70889.3</td>\n",
       "    </tr>\n",
       "    <tr>\n",
       "      <th>7</th>\n",
       "      <td>Garry's Mod</td>\n",
       "      <td>49725.3</td>\n",
       "    </tr>\n",
       "    <tr>\n",
       "      <th>8</th>\n",
       "      <td>Call of Duty Modern Warfare 2 - Multiplayer</td>\n",
       "      <td>42009.9</td>\n",
       "    </tr>\n",
       "    <tr>\n",
       "      <th>9</th>\n",
       "      <td>Left 4 Dead 2</td>\n",
       "      <td>33596.7</td>\n",
       "    </tr>\n",
       "  </tbody>\n",
       "</table>\n",
       "</div>"
      ],
      "text/plain": [
       "                                    game-title     value\n",
       "0                                       Dota 2  981684.6\n",
       "1              Counter-Strike Global Offensive  322771.6\n",
       "2                              Team Fortress 2  173673.3\n",
       "3                               Counter-Strike  134261.1\n",
       "4                   Sid Meier's Civilization V   99821.3\n",
       "5                        Counter-Strike Source   96075.5\n",
       "6                   The Elder Scrolls V Skyrim   70889.3\n",
       "7                                  Garry's Mod   49725.3\n",
       "8  Call of Duty Modern Warfare 2 - Multiplayer   42009.9\n",
       "9                                Left 4 Dead 2   33596.7"
      ]
     },
     "metadata": {},
     "output_type": "display_data"
    }
   ],
   "source": [
    "play_df = steam_df.loc[steam_df['behavior-name'] == 'play'].groupby('game-title')\n",
    "summed_play_df = play_df.sum().sort_values(by='value', ascending=False).reset_index()\n",
    "display(summed_play_df[['game-title', 'value']].head(10))"
   ]
  },
  {
   "cell_type": "markdown",
   "id": "crude-petroleum",
   "metadata": {},
   "source": [
    "**Task 11.** Which games are the most consistently played (in terms of the average number of hours played)? Print the first 10 titles and respective numbers of hours."
   ]
  },
  {
   "cell_type": "code",
   "execution_count": 146,
   "id": "surgical-lawsuit",
   "metadata": {},
   "outputs": [
    {
     "data": {
      "text/html": [
       "<div>\n",
       "<style scoped>\n",
       "    .dataframe tbody tr th:only-of-type {\n",
       "        vertical-align: middle;\n",
       "    }\n",
       "\n",
       "    .dataframe tbody tr th {\n",
       "        vertical-align: top;\n",
       "    }\n",
       "\n",
       "    .dataframe thead th {\n",
       "        text-align: right;\n",
       "    }\n",
       "</style>\n",
       "<table border=\"1\" class=\"dataframe\">\n",
       "  <thead>\n",
       "    <tr style=\"text-align: right;\">\n",
       "      <th></th>\n",
       "      <th>game-title</th>\n",
       "      <th>value</th>\n",
       "    </tr>\n",
       "  </thead>\n",
       "  <tbody>\n",
       "    <tr>\n",
       "      <th>0</th>\n",
       "      <td>Eastside Hockey Manager</td>\n",
       "      <td>1295.000000</td>\n",
       "    </tr>\n",
       "    <tr>\n",
       "      <th>1</th>\n",
       "      <td>Baldur's Gate II Enhanced Edition</td>\n",
       "      <td>475.255556</td>\n",
       "    </tr>\n",
       "    <tr>\n",
       "      <th>2</th>\n",
       "      <td>FIFA Manager 09</td>\n",
       "      <td>411.000000</td>\n",
       "    </tr>\n",
       "    <tr>\n",
       "      <th>3</th>\n",
       "      <td>Perpetuum</td>\n",
       "      <td>400.975000</td>\n",
       "    </tr>\n",
       "    <tr>\n",
       "      <th>4</th>\n",
       "      <td>Football Manager 2014</td>\n",
       "      <td>391.984615</td>\n",
       "    </tr>\n",
       "    <tr>\n",
       "      <th>5</th>\n",
       "      <td>Football Manager 2012</td>\n",
       "      <td>390.453165</td>\n",
       "    </tr>\n",
       "    <tr>\n",
       "      <th>6</th>\n",
       "      <td>Football Manager 2010</td>\n",
       "      <td>375.048571</td>\n",
       "    </tr>\n",
       "    <tr>\n",
       "      <th>7</th>\n",
       "      <td>Football Manager 2011</td>\n",
       "      <td>365.703226</td>\n",
       "    </tr>\n",
       "    <tr>\n",
       "      <th>8</th>\n",
       "      <td>Freaking Meatbags</td>\n",
       "      <td>331.000000</td>\n",
       "    </tr>\n",
       "    <tr>\n",
       "      <th>9</th>\n",
       "      <td>Out of the Park Baseball 16</td>\n",
       "      <td>330.400000</td>\n",
       "    </tr>\n",
       "  </tbody>\n",
       "</table>\n",
       "</div>"
      ],
      "text/plain": [
       "                          game-title        value\n",
       "0            Eastside Hockey Manager  1295.000000\n",
       "1  Baldur's Gate II Enhanced Edition   475.255556\n",
       "2                    FIFA Manager 09   411.000000\n",
       "3                          Perpetuum   400.975000\n",
       "4              Football Manager 2014   391.984615\n",
       "5              Football Manager 2012   390.453165\n",
       "6              Football Manager 2010   375.048571\n",
       "7              Football Manager 2011   365.703226\n",
       "8                  Freaking Meatbags   331.000000\n",
       "9        Out of the Park Baseball 16   330.400000"
      ]
     },
     "metadata": {},
     "output_type": "display_data"
    }
   ],
   "source": [
    "summed_play_df = play_df.mean().sort_values(by='value', ascending=False).reset_index()\n",
    "display(summed_play_df[['game-title', 'value']].head(10))"
   ]
  },
  {
   "cell_type": "markdown",
   "id": "monetary-toyota",
   "metadata": {},
   "source": [
    "**Task 12\\*\\*.** Fix the above for the fact that 0 hours played is not listed, but only a purchase is recorded in such a case."
   ]
  },
  {
   "cell_type": "code",
   "execution_count": null,
   "id": "protective-report",
   "metadata": {},
   "outputs": [],
   "source": [
    "# Write your code here"
   ]
  },
  {
   "cell_type": "markdown",
   "id": "ceramic-awareness",
   "metadata": {},
   "source": [
    "**Task 13.** Apply the sigmoid function\n",
    "$$f(x) = \\frac{1}{1 + e^{-\\frac{1}{100}x}}$$\n",
    "to hours played and print the first 10 rows from the entire Steam dataset after this change."
   ]
  },
  {
   "cell_type": "code",
   "execution_count": 30,
   "id": "optical-announcement",
   "metadata": {},
   "outputs": [
    {
     "name": "stdout",
     "output_type": "stream",
     "text": [
      "          user-id                  game-title behavior-name     value  zero\n",
      "0       151603712  The Elder Scrolls V Skyrim      purchase  1.000000     0\n",
      "1       151603712  The Elder Scrolls V Skyrim          play  0.938774     0\n",
      "2       151603712                   Fallout 4      purchase  1.000000     0\n",
      "3       151603712                   Fallout 4          play  0.704746     0\n",
      "4       151603712                       Spore      purchase  1.000000     0\n",
      "...           ...                         ...           ...       ...   ...\n",
      "199995  128470551                 Titan Souls          play  0.503750     0\n",
      "199996  128470551  Grand Theft Auto Vice City      purchase  1.000000     0\n",
      "199997  128470551  Grand Theft Auto Vice City          play  0.503750     0\n",
      "199998  128470551                        RUSH      purchase  1.000000     0\n",
      "199999  128470551                        RUSH          play  0.503500     0\n",
      "\n",
      "[200000 rows x 5 columns]\n"
     ]
    }
   ],
   "source": [
    "def sigmoid(x):\n",
    "    return 1 / (1 + np.exp(-(1/100) * x))\n",
    "\n",
    "df = steam_df.copy()\n",
    "df.value = np.where(\n",
    "    df[\"behavior-name\"] == 'play', \n",
    "    sigmoid(df['value']), \n",
    "    df['value']\n",
    ")\n",
    "print(df.head(10))"
   ]
  },
  {
   "cell_type": "markdown",
   "id": "actual-spotlight",
   "metadata": {},
   "source": [
    "## Pandas tasks - MovieLens dataset"
   ]
  },
  {
   "cell_type": "markdown",
   "id": "inclusive-crash",
   "metadata": {},
   "source": [
    "**Task 14\\*.** Calculate popularity (by the number of users who watched a movie) of all genres. Print a DataFrame with two columns: genre, n_users, where n_users contains the number of users who watched a given genre. Sort all genres in descending order."
   ]
  },
  {
   "cell_type": "code",
   "execution_count": null,
   "id": "developmental-seven",
   "metadata": {},
   "outputs": [],
   "source": [
    "# Write your code here"
   ]
  },
  {
   "cell_type": "markdown",
   "id": "personalized-finland",
   "metadata": {},
   "source": [
    "**Task 15\\*.** Calculate average rating for all genres. Print a DataFrame with two columns: genre, rating, where rating contains the average rating for a given genre. Sort all genres in descending order."
   ]
  },
  {
   "cell_type": "code",
   "execution_count": null,
   "id": "inside-personal",
   "metadata": {},
   "outputs": [],
   "source": [
    "# Write your code here"
   ]
  },
  {
   "cell_type": "markdown",
   "id": "vertical-stick",
   "metadata": {},
   "source": [
    "**Task 17.** Calculate each movie rating bias (deviation from the mean of all movies average rating). Print first 10 in the form: title, average rating, bias."
   ]
  },
  {
   "cell_type": "code",
   "execution_count": 35,
   "id": "greatest-screen",
   "metadata": {},
   "outputs": [
    {
     "data": {
      "text/html": [
       "<div>\n",
       "<style scoped>\n",
       "    .dataframe tbody tr th:only-of-type {\n",
       "        vertical-align: middle;\n",
       "    }\n",
       "\n",
       "    .dataframe tbody tr th {\n",
       "        vertical-align: top;\n",
       "    }\n",
       "\n",
       "    .dataframe thead th {\n",
       "        text-align: right;\n",
       "    }\n",
       "</style>\n",
       "<table border=\"1\" class=\"dataframe\">\n",
       "  <thead>\n",
       "    <tr style=\"text-align: right;\">\n",
       "      <th></th>\n",
       "      <th>title</th>\n",
       "      <th>average_rating</th>\n",
       "      <th>bias</th>\n",
       "    </tr>\n",
       "  </thead>\n",
       "  <tbody>\n",
       "    <tr>\n",
       "      <th>0</th>\n",
       "      <td>'71 (2014)</td>\n",
       "      <td>4.000000</td>\n",
       "      <td>0.498443</td>\n",
       "    </tr>\n",
       "    <tr>\n",
       "      <th>1</th>\n",
       "      <td>'Hellboy': The Seeds of Creation (2004)</td>\n",
       "      <td>4.000000</td>\n",
       "      <td>0.498443</td>\n",
       "    </tr>\n",
       "    <tr>\n",
       "      <th>2</th>\n",
       "      <td>'Round Midnight (1986)</td>\n",
       "      <td>3.500000</td>\n",
       "      <td>-0.001557</td>\n",
       "    </tr>\n",
       "    <tr>\n",
       "      <th>3</th>\n",
       "      <td>'Salem's Lot (2004)</td>\n",
       "      <td>5.000000</td>\n",
       "      <td>1.498443</td>\n",
       "    </tr>\n",
       "    <tr>\n",
       "      <th>4</th>\n",
       "      <td>'Til There Was You (1997)</td>\n",
       "      <td>4.000000</td>\n",
       "      <td>0.498443</td>\n",
       "    </tr>\n",
       "    <tr>\n",
       "      <th>5</th>\n",
       "      <td>'Tis the Season for Love (2015)</td>\n",
       "      <td>1.500000</td>\n",
       "      <td>-2.001557</td>\n",
       "    </tr>\n",
       "    <tr>\n",
       "      <th>6</th>\n",
       "      <td>'burbs, The (1989)</td>\n",
       "      <td>3.176471</td>\n",
       "      <td>-0.325086</td>\n",
       "    </tr>\n",
       "    <tr>\n",
       "      <th>7</th>\n",
       "      <td>'night Mother (1986)</td>\n",
       "      <td>3.000000</td>\n",
       "      <td>-0.501557</td>\n",
       "    </tr>\n",
       "    <tr>\n",
       "      <th>8</th>\n",
       "      <td>(500) Days of Summer (2009)</td>\n",
       "      <td>3.666667</td>\n",
       "      <td>0.165110</td>\n",
       "    </tr>\n",
       "    <tr>\n",
       "      <th>9</th>\n",
       "      <td>*batteries not included (1987)</td>\n",
       "      <td>3.285714</td>\n",
       "      <td>-0.215843</td>\n",
       "    </tr>\n",
       "  </tbody>\n",
       "</table>\n",
       "</div>"
      ],
      "text/plain": [
       "                                     title  average_rating      bias\n",
       "0                               '71 (2014)        4.000000  0.498443\n",
       "1  'Hellboy': The Seeds of Creation (2004)        4.000000  0.498443\n",
       "2                   'Round Midnight (1986)        3.500000 -0.001557\n",
       "3                      'Salem's Lot (2004)        5.000000  1.498443\n",
       "4                'Til There Was You (1997)        4.000000  0.498443\n",
       "5          'Tis the Season for Love (2015)        1.500000 -2.001557\n",
       "6                       'burbs, The (1989)        3.176471 -0.325086\n",
       "7                     'night Mother (1986)        3.000000 -0.501557\n",
       "8              (500) Days of Summer (2009)        3.666667  0.165110\n",
       "9           *batteries not included (1987)        3.285714 -0.215843"
      ]
     },
     "metadata": {},
     "output_type": "display_data"
    }
   ],
   "source": [
    "ml_df_mean = ml_df[['title', 'rating']].groupby('title').mean()\n",
    "avg_rating = ml_df['rating'].mean()\n",
    "\n",
    "ml_df_mean = ml_df_mean.rename(columns = {'rating': 'average_rating'})\n",
    "ml_df_mean['bias'] = ml_df_mean - avg_rating \n",
    "display(ml_df_mean.head(10).reset_index())\n"
   ]
  },
  {
   "cell_type": "markdown",
   "id": "hawaiian-haiti",
   "metadata": {},
   "source": [
    "**Task 17.** Calculate each user rating bias (deviation from the mean of all users average rating). Print first 10 in the form: user_id, average rating, bias."
   ]
  },
  {
   "cell_type": "code",
   "execution_count": 38,
   "id": "charitable-guyana",
   "metadata": {},
   "outputs": [
    {
     "data": {
      "text/html": [
       "<div>\n",
       "<style scoped>\n",
       "    .dataframe tbody tr th:only-of-type {\n",
       "        vertical-align: middle;\n",
       "    }\n",
       "\n",
       "    .dataframe tbody tr th {\n",
       "        vertical-align: top;\n",
       "    }\n",
       "\n",
       "    .dataframe thead th {\n",
       "        text-align: right;\n",
       "    }\n",
       "</style>\n",
       "<table border=\"1\" class=\"dataframe\">\n",
       "  <thead>\n",
       "    <tr style=\"text-align: right;\">\n",
       "      <th></th>\n",
       "      <th>userId</th>\n",
       "      <th>average_rating</th>\n",
       "      <th>bias</th>\n",
       "    </tr>\n",
       "  </thead>\n",
       "  <tbody>\n",
       "    <tr>\n",
       "      <th>0</th>\n",
       "      <td>1</td>\n",
       "      <td>4.366379</td>\n",
       "      <td>0.864822</td>\n",
       "    </tr>\n",
       "    <tr>\n",
       "      <th>1</th>\n",
       "      <td>2</td>\n",
       "      <td>3.948276</td>\n",
       "      <td>0.446719</td>\n",
       "    </tr>\n",
       "    <tr>\n",
       "      <th>2</th>\n",
       "      <td>3</td>\n",
       "      <td>2.435897</td>\n",
       "      <td>-1.065660</td>\n",
       "    </tr>\n",
       "    <tr>\n",
       "      <th>3</th>\n",
       "      <td>4</td>\n",
       "      <td>3.555556</td>\n",
       "      <td>0.053999</td>\n",
       "    </tr>\n",
       "    <tr>\n",
       "      <th>4</th>\n",
       "      <td>5</td>\n",
       "      <td>3.636364</td>\n",
       "      <td>0.134807</td>\n",
       "    </tr>\n",
       "    <tr>\n",
       "      <th>5</th>\n",
       "      <td>6</td>\n",
       "      <td>3.493631</td>\n",
       "      <td>-0.007926</td>\n",
       "    </tr>\n",
       "    <tr>\n",
       "      <th>6</th>\n",
       "      <td>7</td>\n",
       "      <td>3.230263</td>\n",
       "      <td>-0.271294</td>\n",
       "    </tr>\n",
       "    <tr>\n",
       "      <th>7</th>\n",
       "      <td>8</td>\n",
       "      <td>3.574468</td>\n",
       "      <td>0.072911</td>\n",
       "    </tr>\n",
       "    <tr>\n",
       "      <th>8</th>\n",
       "      <td>9</td>\n",
       "      <td>3.260870</td>\n",
       "      <td>-0.240687</td>\n",
       "    </tr>\n",
       "    <tr>\n",
       "      <th>9</th>\n",
       "      <td>10</td>\n",
       "      <td>3.278571</td>\n",
       "      <td>-0.222986</td>\n",
       "    </tr>\n",
       "  </tbody>\n",
       "</table>\n",
       "</div>"
      ],
      "text/plain": [
       "   userId  average_rating      bias\n",
       "0       1        4.366379  0.864822\n",
       "1       2        3.948276  0.446719\n",
       "2       3        2.435897 -1.065660\n",
       "3       4        3.555556  0.053999\n",
       "4       5        3.636364  0.134807\n",
       "5       6        3.493631 -0.007926\n",
       "6       7        3.230263 -0.271294\n",
       "7       8        3.574468  0.072911\n",
       "8       9        3.260870 -0.240687\n",
       "9      10        3.278571 -0.222986"
      ]
     },
     "metadata": {},
     "output_type": "display_data"
    }
   ],
   "source": [
    "# def calculate_values(user_id):\n",
    "#     return user_id, ml_df[ml_df['userId'] == user_id].rating.mean(), ml_df[ml_df['userId'] == user_id].rating.mean() - ml_df.rating.mean()\n",
    "\n",
    "# user_ids = sorted(ml_df['userId'].unique())\n",
    "# df = pd.DataFrame([calculate_values(user_id) for user_id in user_ids], columns=['userId', 'average_rating', 'bias'])\n",
    "# print(df.head(10))\n",
    "\n",
    "ml_df_mean = ml_df[['userId', 'rating']].groupby('userId').mean()\n",
    "avg_rating = ml_df['rating'].mean()\n",
    "\n",
    "ml_df_mean = ml_df_mean.rename(columns = {'rating': 'average_rating'})\n",
    "ml_df_mean['bias'] = ml_df_mean - avg_rating \n",
    "display(ml_df_mean.head(10).reset_index())"
   ]
  },
  {
   "cell_type": "markdown",
   "id": "intimate-porcelain",
   "metadata": {},
   "source": [
    "**Task 18.** Randomly choose 10 movies and 10 users and print their interaction matrix in the form of a DataFrame with user_id as index and movie titles as columns. You can iterate over the DataFrame in this task."
   ]
  },
  {
   "cell_type": "code",
   "execution_count": 47,
   "id": "brazilian-frost",
   "metadata": {},
   "outputs": [
    {
     "data": {
      "text/html": [
       "<div>\n",
       "<style scoped>\n",
       "    .dataframe tbody tr th:only-of-type {\n",
       "        vertical-align: middle;\n",
       "    }\n",
       "\n",
       "    .dataframe tbody tr th {\n",
       "        vertical-align: top;\n",
       "    }\n",
       "\n",
       "    .dataframe thead th {\n",
       "        text-align: right;\n",
       "    }\n",
       "</style>\n",
       "<table border=\"1\" class=\"dataframe\">\n",
       "  <thead>\n",
       "    <tr style=\"text-align: right;\">\n",
       "      <th></th>\n",
       "      <th>Father of the Bride (1950)</th>\n",
       "      <th>Matrix, The (1999)</th>\n",
       "      <th>Howards End (1992)</th>\n",
       "      <th>Thirteen Conversations About One Thing (a.k.a. 13 Conversations) (2001)</th>\n",
       "      <th>It Runs in the Family (2003)</th>\n",
       "      <th>I Love You to Death (1990)</th>\n",
       "      <th>Bedazzled (1967)</th>\n",
       "      <th>I Don't Know How She Does It (2011)</th>\n",
       "      <th>Wind Rises, The (Kaze tachinu) (2013)</th>\n",
       "      <th>Night Guards (2016)</th>\n",
       "    </tr>\n",
       "  </thead>\n",
       "  <tbody>\n",
       "    <tr>\n",
       "      <th>11</th>\n",
       "      <td>0.0</td>\n",
       "      <td>0.0</td>\n",
       "      <td>0.0</td>\n",
       "      <td>0.0</td>\n",
       "      <td>0.0</td>\n",
       "      <td>0.0</td>\n",
       "      <td>0.0</td>\n",
       "      <td>0.0</td>\n",
       "      <td>0.0</td>\n",
       "      <td>0.0</td>\n",
       "    </tr>\n",
       "    <tr>\n",
       "      <th>277</th>\n",
       "      <td>0.0</td>\n",
       "      <td>0.0</td>\n",
       "      <td>0.0</td>\n",
       "      <td>0.0</td>\n",
       "      <td>0.0</td>\n",
       "      <td>0.0</td>\n",
       "      <td>0.0</td>\n",
       "      <td>0.0</td>\n",
       "      <td>0.0</td>\n",
       "      <td>0.0</td>\n",
       "    </tr>\n",
       "    <tr>\n",
       "      <th>286</th>\n",
       "      <td>0.0</td>\n",
       "      <td>1.0</td>\n",
       "      <td>0.0</td>\n",
       "      <td>0.0</td>\n",
       "      <td>0.0</td>\n",
       "      <td>0.0</td>\n",
       "      <td>0.0</td>\n",
       "      <td>0.0</td>\n",
       "      <td>0.0</td>\n",
       "      <td>0.0</td>\n",
       "    </tr>\n",
       "    <tr>\n",
       "      <th>357</th>\n",
       "      <td>0.0</td>\n",
       "      <td>0.0</td>\n",
       "      <td>0.0</td>\n",
       "      <td>0.0</td>\n",
       "      <td>0.0</td>\n",
       "      <td>0.0</td>\n",
       "      <td>0.0</td>\n",
       "      <td>0.0</td>\n",
       "      <td>0.0</td>\n",
       "      <td>0.0</td>\n",
       "    </tr>\n",
       "    <tr>\n",
       "      <th>414</th>\n",
       "      <td>0.0</td>\n",
       "      <td>1.0</td>\n",
       "      <td>0.0</td>\n",
       "      <td>1.0</td>\n",
       "      <td>0.0</td>\n",
       "      <td>0.0</td>\n",
       "      <td>0.0</td>\n",
       "      <td>0.0</td>\n",
       "      <td>0.0</td>\n",
       "      <td>0.0</td>\n",
       "    </tr>\n",
       "    <tr>\n",
       "      <th>428</th>\n",
       "      <td>0.0</td>\n",
       "      <td>1.0</td>\n",
       "      <td>0.0</td>\n",
       "      <td>0.0</td>\n",
       "      <td>0.0</td>\n",
       "      <td>0.0</td>\n",
       "      <td>0.0</td>\n",
       "      <td>0.0</td>\n",
       "      <td>0.0</td>\n",
       "      <td>0.0</td>\n",
       "    </tr>\n",
       "    <tr>\n",
       "      <th>470</th>\n",
       "      <td>0.0</td>\n",
       "      <td>0.0</td>\n",
       "      <td>0.0</td>\n",
       "      <td>0.0</td>\n",
       "      <td>0.0</td>\n",
       "      <td>0.0</td>\n",
       "      <td>0.0</td>\n",
       "      <td>0.0</td>\n",
       "      <td>0.0</td>\n",
       "      <td>0.0</td>\n",
       "    </tr>\n",
       "    <tr>\n",
       "      <th>487</th>\n",
       "      <td>0.0</td>\n",
       "      <td>1.0</td>\n",
       "      <td>0.0</td>\n",
       "      <td>0.0</td>\n",
       "      <td>0.0</td>\n",
       "      <td>0.0</td>\n",
       "      <td>0.0</td>\n",
       "      <td>0.0</td>\n",
       "      <td>0.0</td>\n",
       "      <td>0.0</td>\n",
       "    </tr>\n",
       "    <tr>\n",
       "      <th>543</th>\n",
       "      <td>0.0</td>\n",
       "      <td>1.0</td>\n",
       "      <td>0.0</td>\n",
       "      <td>0.0</td>\n",
       "      <td>0.0</td>\n",
       "      <td>0.0</td>\n",
       "      <td>0.0</td>\n",
       "      <td>0.0</td>\n",
       "      <td>0.0</td>\n",
       "      <td>0.0</td>\n",
       "    </tr>\n",
       "    <tr>\n",
       "      <th>544</th>\n",
       "      <td>0.0</td>\n",
       "      <td>0.0</td>\n",
       "      <td>0.0</td>\n",
       "      <td>0.0</td>\n",
       "      <td>0.0</td>\n",
       "      <td>0.0</td>\n",
       "      <td>0.0</td>\n",
       "      <td>0.0</td>\n",
       "      <td>0.0</td>\n",
       "      <td>0.0</td>\n",
       "    </tr>\n",
       "  </tbody>\n",
       "</table>\n",
       "</div>"
      ],
      "text/plain": [
       "     Father of the Bride (1950)  Matrix, The (1999)  Howards End (1992)  \\\n",
       "11                          0.0                 0.0                 0.0   \n",
       "277                         0.0                 0.0                 0.0   \n",
       "286                         0.0                 1.0                 0.0   \n",
       "357                         0.0                 0.0                 0.0   \n",
       "414                         0.0                 1.0                 0.0   \n",
       "428                         0.0                 1.0                 0.0   \n",
       "470                         0.0                 0.0                 0.0   \n",
       "487                         0.0                 1.0                 0.0   \n",
       "543                         0.0                 1.0                 0.0   \n",
       "544                         0.0                 0.0                 0.0   \n",
       "\n",
       "     Thirteen Conversations About One Thing (a.k.a. 13 Conversations) (2001)  \\\n",
       "11                                                 0.0                         \n",
       "277                                                0.0                         \n",
       "286                                                0.0                         \n",
       "357                                                0.0                         \n",
       "414                                                1.0                         \n",
       "428                                                0.0                         \n",
       "470                                                0.0                         \n",
       "487                                                0.0                         \n",
       "543                                                0.0                         \n",
       "544                                                0.0                         \n",
       "\n",
       "     It Runs in the Family (2003)  I Love You to Death (1990)  \\\n",
       "11                            0.0                         0.0   \n",
       "277                           0.0                         0.0   \n",
       "286                           0.0                         0.0   \n",
       "357                           0.0                         0.0   \n",
       "414                           0.0                         0.0   \n",
       "428                           0.0                         0.0   \n",
       "470                           0.0                         0.0   \n",
       "487                           0.0                         0.0   \n",
       "543                           0.0                         0.0   \n",
       "544                           0.0                         0.0   \n",
       "\n",
       "     Bedazzled (1967)  I Don't Know How She Does It (2011)  \\\n",
       "11                0.0                                  0.0   \n",
       "277               0.0                                  0.0   \n",
       "286               0.0                                  0.0   \n",
       "357               0.0                                  0.0   \n",
       "414               0.0                                  0.0   \n",
       "428               0.0                                  0.0   \n",
       "470               0.0                                  0.0   \n",
       "487               0.0                                  0.0   \n",
       "543               0.0                                  0.0   \n",
       "544               0.0                                  0.0   \n",
       "\n",
       "     Wind Rises, The (Kaze tachinu) (2013)  Night Guards (2016)  \n",
       "11                                     0.0                  0.0  \n",
       "277                                    0.0                  0.0  \n",
       "286                                    0.0                  0.0  \n",
       "357                                    0.0                  0.0  \n",
       "414                                    0.0                  0.0  \n",
       "428                                    0.0                  0.0  \n",
       "470                                    0.0                  0.0  \n",
       "487                                    0.0                  0.0  \n",
       "543                                    0.0                  0.0  \n",
       "544                                    0.0                  0.0  "
      ]
     },
     "metadata": {},
     "output_type": "display_data"
    }
   ],
   "source": [
    "user_ids = ml_df['userId'].unique()\n",
    "movie_ids = ml_df['movieId'].unique()\n",
    "rng = np.random.RandomState(seed=4321)\n",
    "user_ids = sorted(list(rng.choice(user_ids, size=10)))\n",
    "movie_ids = sorted(list(rng.choice(movie_ids, size=10)))\n",
    "movies = {\n",
    "    movie_id: ml_df[ml_df['movieId'] == movie_id].iloc[0].title \n",
    "        for movie_id in movie_ids\n",
    "}\n",
    "\n",
    "df = pd.DataFrame(0.0, index=user_ids, columns=movies.values())\n",
    "\n",
    "for user_id in user_ids:\n",
    "    for movie_id in movie_ids:\n",
    "        if(ml_df[(ml_df['userId'] == user_id) & (ml_df['movieId'] == movie_id)].empty == False):\n",
    "            df.at[user_id, movies[movie_id]] = 1.0\n",
    "           \n",
    "display(df)"
   ]
  },
  {
   "cell_type": "markdown",
   "id": "boolean-modem",
   "metadata": {},
   "source": [
    "## Pandas + numpy tasks"
   ]
  },
  {
   "cell_type": "markdown",
   "id": "worldwide-disclaimer",
   "metadata": {},
   "source": [
    "**Task 19.** Create the entire interaction matrix for the MovieLens dataset. Print the submatrix of first 10 rows and 10 columns."
   ]
  },
  {
   "cell_type": "code",
   "execution_count": 55,
   "id": "marine-initial",
   "metadata": {},
   "outputs": [
    {
     "name": "stdout",
     "output_type": "stream",
     "text": [
      "[[5 0 5 0 0 5 0 0 0 0]\n",
      " [0 0 0 0 0 0 0 0 0 0]\n",
      " [0 0 0 0 0 0 0 0 0 0]\n",
      " [0 0 0 0 0 0 0 0 0 0]\n",
      " [5 0 0 0 0 0 0 0 0 0]\n",
      " [0 5 5 5 5 5 5 5 0 5]\n",
      " [5 0 0 0 0 0 0 0 0 0]\n",
      " [0 5 0 0 0 0 0 0 0 5]\n",
      " [0 0 0 0 0 0 0 0 0 0]\n",
      " [0 0 0 0 0 0 0 0 0 0]]\n",
      "----\n",
      "[0 0 0 0 0 5 0 5 0 0]\n"
     ]
    }
   ],
   "source": [
    "df = ml_df.pivot_table(index='userId', columns='movieId', aggfunc=len, fill_value=0)\n",
    "# print(np.array(df.iloc[:10,:10]))\n",
    "\n",
    "k = np.array(df.iloc[:10,:10])\n",
    "k[k == 1] = 5\n",
    "print(k)\n",
    "print('----')\n",
    "print(k[:, 1])"
   ]
  },
  {
   "cell_type": "markdown",
   "id": "micro-vision",
   "metadata": {},
   "source": [
    "**Task 20.** Calculate the matrix of size (n_users, n_users) where at position (i, j) there is the number of movies watched both by user i and user j. Print the submatrix of first 10 rows and 10 columns."
   ]
  },
  {
   "cell_type": "code",
   "execution_count": null,
   "id": "swedish-lambda",
   "metadata": {},
   "outputs": [],
   "source": [
    "interaction_matrix = np.zeros(shape=(ml_df['userId'].max() + 1, ml_df['movieId'].max() + 1))\n",
    "for ids, row in ml_df.iterrows():\n",
    "    interaction_matrix[row['userId']][row['movieId']] = 1\n",
    "n_watched_movies = np.matmul(interaction_matrix, interaction_matrix.T)\n",
    "\n",
    "print(n_watched_movies[:10, :10])"
   ]
  },
  {
   "cell_type": "markdown",
   "id": "shaped-advance",
   "metadata": {},
   "source": [
    "**Task 21.** Calculate the matrix of size (n_items, n_items) where at position (i, j) there is the number of users who watched both movie i and movie j. To prevent hanging your computer because of RAM shortage use only the first 1000 items. Print the submatrix of first 10 rows and 10 columns."
   ]
  },
  {
   "cell_type": "code",
   "execution_count": null,
   "id": "quality-bubble",
   "metadata": {},
   "outputs": [],
   "source": [
    "# Write your code here"
   ]
  }
 ],
 "metadata": {
  "kernelspec": {
   "display_name": "Python 3",
   "language": "python",
   "name": "python3"
  },
  "language_info": {
   "codemirror_mode": {
    "name": "ipython",
    "version": 3
   },
   "file_extension": ".py",
   "mimetype": "text/x-python",
   "name": "python",
   "nbconvert_exporter": "python",
   "pygments_lexer": "ipython3",
   "version": "3.9.6"
  }
 },
 "nbformat": 4,
 "nbformat_minor": 5
}